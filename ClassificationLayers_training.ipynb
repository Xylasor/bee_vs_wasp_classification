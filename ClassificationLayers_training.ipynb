{
 "cells": [
  {
   "cell_type": "code",
   "execution_count": null,
   "metadata": {},
   "outputs": [],
   "source": [
    "import os\n",
    "import pandas as pd\n",
    "import numpy as np\n",
    "from sklearn.model_selection import train_test_split\n",
    "from keras.preprocessing.image import ImageDataGenerator\n",
    "from keras.models import Sequential\n",
    "from keras import layers\n",
    "from keras.layers import Conv2D, MaxPooling2D, Dropout, Flatten, Dense, Activation,GlobalMaxPooling2D\n",
    "from keras import applications\n",
    "from keras.preprocessing.image import ImageDataGenerator\n",
    "from keras import optimizers\n",
    "from keras.applications import VGG16\n",
    "from keras.models import Model\n",
    "from keras.layers import merge, Input\n",
    "from keras.callbacks import ModelCheckpoint, EarlyStopping"
   ]
  },
  {
   "cell_type": "markdown",
   "metadata": {},
   "source": [
    "Test pobranego modelu w całości "
   ]
  },
  {
   "cell_type": "code",
   "execution_count": null,
   "metadata": {},
   "outputs": [],
   "source": [
    "from pathlib import Path\n",
    "train_dir = \"kaggle_bee_vs_wasp/\"\n",
    "bs = 32 # Batch size\n",
    "resize_size = 224 # for training, resize all the images to a square of this size\n",
    "training_subsample = 1 # for development, use a small fraction of the entire dataset rater than full dataset\n",
    "\n",
    "bees_vs_wasps_dataset_path=Path(train_dir) # this is relative to the \"example_notebook\" folder. Modify this to reflect your setup\n",
    "df_labels = pd.read_csv(bees_vs_wasps_dataset_path/'labels.csv')\n",
    "df_labels=df_labels.set_index('id')\n",
    "# perform dataset subsampling\n",
    "df_labels = df_labels.sample(frac=training_subsample, axis=0)\n",
    "insect_class = {'bee': 0,'wasp': 1, 'insect': 2,'other': 3} \n",
    "#df_labels.label = [insect_class[item] for item in df_labels.label] \n",
    "df_labels = df_labels[['path','label']]"
   ]
  },
  {
   "cell_type": "code",
   "execution_count": null,
   "metadata": {},
   "outputs": [],
   "source": [
    "train_df, test_val_df = train_test_split(df_labels, test_size=0.2)\n",
    "test_df, validation_df = train_test_split(test_val_df, test_size=0.5)\n",
    "test_df = test_df.reset_index(drop=True)\n",
    "train_df = train_df.reset_index(drop=True)\n",
    "validation_df = validation_df.reset_index(drop=True)"
   ]
  },
  {
   "cell_type": "code",
   "execution_count": null,
   "metadata": {},
   "outputs": [],
   "source": [
    "#Uncomment to read data from csv\n",
    "#df_labels = pd.read_csv(\"Dataset_full.csv\") #full dataset\n",
    "#df_labels = pd.read_csv(\"Dataset_10precent.csv\") #0.1 fraction for development"
   ]
  },
  {
   "cell_type": "code",
   "execution_count": null,
   "metadata": {},
   "outputs": [],
   "source": [
    "#Create custom vgg model\n",
    "image_input = Input(shape=(224, 224, 3))\n",
    "\n",
    "model = VGG16(input_tensor=image_input, include_top=True,weights='imagenet')\n",
    "\n",
    "model.summary()\n",
    "\n",
    "last_layer = model.get_layer('block5_pool').output\n",
    "x= Flatten(name='flatten')(last_layer)\n",
    "x = Dense(1024, activation='relu', name='fc1')(x)\n",
    "x = Dense(1024, activation='relu', name='fc2')(x)\n",
    "out = Dense(4, activation='softmax', name='output')(x)\n",
    "custom_vgg_model = Model(image_input, out)\n",
    "\n",
    "#train only 3 last layers\n",
    "for layer in custom_vgg_model.layers[:-3]:\n",
    "\tlayer.trainable = False\n",
    "\n",
    "custom_vgg_model.compile(loss='sparse_categorical_crossentropy',optimizer='adadelta',metrics=['accuracy'])\n",
    "custom_vgg_model.summary()\n"
   ]
  },
  {
   "cell_type": "code",
   "execution_count": null,
   "metadata": {},
   "outputs": [],
   "source": [
    "#Create generators from dataframes\n",
    "train_datagen = ImageDataGenerator(\n",
    "    rotation_range=15,\n",
    "    rescale=1./255,\n",
    "    shear_range=0.2,\n",
    "    zoom_range=0.2,\n",
    "    horizontal_flip=True,\n",
    "    fill_mode='nearest',\n",
    "    width_shift_range=0.1,\n",
    "    height_shift_range=0.1\n",
    ")\n",
    "\n",
    "train_generator = train_datagen.flow_from_dataframe(\n",
    "    train_df, \n",
    "    train_dir,  \n",
    "    x_col='path',\n",
    "    y_col='label',\n",
    "    class_mode='sparse',\n",
    "    target_size=(resize_size, resize_size),\n",
    "    batch_size=bs\n",
    ")\n",
    "validation_datagen = ImageDataGenerator(rescale=1./255)\n",
    "validation_generator = validation_datagen.flow_from_dataframe(\n",
    "    validation_df, \n",
    "    train_dir, \n",
    "    x_col='path',\n",
    "    y_col='label',\n",
    "    class_mode='sparse',\n",
    "    target_size=(resize_size, resize_size),\n",
    "    batch_size=bs\n",
    ")\n",
    "test_datagen = ImageDataGenerator(rescale=1./255)\n",
    "test_generator = test_datagen.flow_from_dataframe(\n",
    "    test_df, \n",
    "    train_dir, \n",
    "    x_col='path',\n",
    "    y_col='label',\n",
    "    class_mode='sparse',\n",
    "    target_size=(resize_size, resize_size),\n",
    "    batch_size=1\n",
    ")"
   ]
  },
  {
   "cell_type": "code",
   "execution_count": null,
   "metadata": {},
   "outputs": [],
   "source": [
    "#Early stopping\n",
    "checkpoint = ModelCheckpoint(\n",
    "    \"classification_model_checkpoint.hdf5\", \n",
    "    monitor='val_loss', \n",
    "    verbose=1, \n",
    "    save_best_only=False,\n",
    "    save_weights_only=False, \n",
    "    mode='auto', \n",
    "    save_freq='epoch',\n",
    "    options=None\n",
    ")\n",
    "early = EarlyStopping(\n",
    "    monitor=\"val_loss\",\n",
    "    min_delta=0,\n",
    "    patience=40,\n",
    "    verbose=1,\n",
    "    mode=\"auto\",\n",
    ")"
   ]
  },
  {
   "cell_type": "code",
   "execution_count": null,
   "metadata": {},
   "outputs": [],
   "source": [
    "n_training_samples = len(train_df)\n",
    "n_validation_samples = len(validation_df)\n",
    "\n",
    "history = custom_vgg_model.fit(\n",
    "    train_generator,\n",
    "    epochs=25,\n",
    "    validation_data=validation_generator,\n",
    "    validation_steps=n_validation_samples//bs,\n",
    "    steps_per_epoch=n_training_samples//bs,\n",
    "    callbacks=[checkpoint, early])"
   ]
  },
  {
   "cell_type": "code",
   "execution_count": null,
   "metadata": {},
   "outputs": [],
   "source": [
    "filenames = test_generator.filenames\n",
    "n_test_samples = len(filenames)\n",
    "predict = custom_vgg_model.predict(test_generator, steps=n_test_samples)\n",
    "scores = custom_vgg_model.evaluate_generator(test_generator,steps=n_test_samples)"
   ]
  },
  {
   "cell_type": "code",
   "execution_count": null,
   "metadata": {},
   "outputs": [],
   "source": [
    "custom_vgg_model.save('classifiaction_layer_trained_model')\n",
    "np.savetxt(\"model1_class/val_loss.csv\",  \n",
    "           history.history[\"val_loss\"], \n",
    "           delimiter =\", \",  \n",
    "           fmt ='% s') \n",
    "np.savetxt(\"model1_class/val_accuracy.csv\",  \n",
    "           history.history[\"val_accuracy\"], \n",
    "           delimiter =\", \",  \n",
    "           fmt ='% s') \n",
    "np.savetxt(\"model1_class/loss.csv\",  \n",
    "           history.history[\"loss\"], \n",
    "           delimiter =\", \",  \n",
    "           fmt ='% s') \n",
    "np.savetxt(\"model1_class/accuracy.csv\",  \n",
    "           history.history[\"accuracy\"], \n",
    "           delimiter =\", \",  \n",
    "           fmt ='% s') \n",
    "np.savetxt(\"model1_class/accuracy_on_test.csv\",  \n",
    "           scores, \n",
    "           delimiter =\", \",  \n",
    "           fmt ='% s') "
   ]
  },
  {
   "cell_type": "code",
   "execution_count": null,
   "metadata": {},
   "outputs": [],
   "source": []
  },
  {
   "cell_type": "code",
   "execution_count": null,
   "metadata": {},
   "outputs": [],
   "source": [
    "print (\"Model accuracy on test set:\" + str(scores[1]) )"
   ]
  },
  {
   "cell_type": "code",
   "execution_count": null,
   "metadata": {},
   "outputs": [],
   "source": []
  }
 ],
 "metadata": {
  "kernelspec": {
   "display_name": "Python 3",
   "language": "python",
   "name": "python3"
  },
  "language_info": {
   "codemirror_mode": {
    "name": "ipython",
    "version": 3
   },
   "file_extension": ".py",
   "mimetype": "text/x-python",
   "name": "python",
   "nbconvert_exporter": "python",
   "pygments_lexer": "ipython3",
   "version": "3.7.6-final"
  }
 },
 "nbformat": 4,
 "nbformat_minor": 4
}
