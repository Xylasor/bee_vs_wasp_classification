{
 "cells": [
  {
   "cell_type": "code",
   "execution_count": null,
   "metadata": {},
   "outputs": [],
   "source": [
    "import os\n",
    "import pandas as pd\n",
    "import numpy as np\n",
    "from sklearn.model_selection import train_test_split\n",
    "from keras.preprocessing.image import ImageDataGenerator\n",
    "from keras.models import Sequential\n",
    "from keras import layers\n",
    "from keras.layers import Conv2D, MaxPooling2D, Dropout, Flatten, Dense, Activation,GlobalMaxPooling2D\n",
    "from keras import applications\n",
    "from keras.preprocessing.image import ImageDataGenerator\n",
    "from keras import optimizers\n",
    "from keras.applications import VGG16\n",
    "from keras.models import Model\n",
    "from keras.layers import merge, Input\n",
    "from keras.callbacks import ModelCheckpoint, EarlyStopping\n",
    "import pickle"
   ]
  },
  {
   "cell_type": "code",
   "execution_count": null,
   "metadata": {},
   "outputs": [],
   "source": [
    "from pathlib import Path\n",
    "train_dir = \"kaggle_bee_vs_wasp/\"\n",
    "bs = 64 # Batch size\n",
    "resize_size = 224 # for training, resize all the images to a square of this size\n",
    "training_subsample = 0.3 # for development, use a small fraction of the entire dataset rater than full dataset\n",
    "\n",
    "bees_vs_wasps_dataset_path=Path(train_dir) # this is relative to the \"example_notebook\" folder. Modify this to reflect your setup\n",
    "df_labels = pd.read_csv(bees_vs_wasps_dataset_path/'labels.csv')\n",
    "df_labels=df_labels.set_index('id')\n",
    "# perform dataset subsampling\n",
    "df_labels = df_labels.sample(frac=training_subsample, axis=0)\n",
    "insect_class = {'bee': 0,'wasp': 1, 'insect': 2,'other': 3} \n",
    "#df_labels.label = [insect_class[item] for item in df_labels.label] \n",
    "df_labels = df_labels[['path','label']]"
   ]
  },
  {
   "cell_type": "code",
   "execution_count": null,
   "metadata": {},
   "outputs": [],
   "source": [
    "#Uncomment to read data from csv\n",
    "#df_labels = pd.read_csv(\"Dataset_full.csv\") #full dataset\n",
    "#df_labels = pd.read_csv(\"Dataset_10precent.csv\") #0.1 fraction for development"
   ]
  },
  {
   "cell_type": "code",
   "execution_count": null,
   "metadata": {},
   "outputs": [],
   "source": [
    "train_df, test_df = train_test_split(df_labels, test_size=0.1)\n",
    "test_df = test_df.reset_index(drop=True)\n",
    "train_df = train_df.reset_index(drop=True)"
   ]
  },
  {
   "cell_type": "code",
   "execution_count": null,
   "metadata": {},
   "outputs": [],
   "source": [
    "image_input = Input(shape=(resize_size, resize_size, 3))\n",
    "model = VGG16(input_tensor=image_input, include_top=True,weights='imagenet')\n",
    "last_layer = model.get_layer('block5_pool')\n",
    "last_output = last_layer.output\n",
    "x = Flatten()(last_output)\n",
    "custom_vgg_model = Model(image_input, x)\n",
    "custom_vgg_model.compile(loss='sparse_categorical_crossentropy',optimizer='adadelta',metrics=['accuracy'])\n",
    "for layer in custom_vgg_model.layers:\n",
    "\tlayer.trainable = False\n",
    "custom_vgg_model.summary()"
   ]
  },
  {
   "cell_type": "code",
   "execution_count": null,
   "metadata": {},
   "outputs": [],
   "source": [
    "train_datagen = ImageDataGenerator(\n",
    "    rescale=1./255,\n",
    ")\n",
    "\n",
    "train_generator = train_datagen.flow_from_dataframe(\n",
    "    train_df, \n",
    "    train_dir,  \n",
    "    x_col='path',\n",
    "    y_col='label',\n",
    "    class_mode='sparse',\n",
    "    target_size=(resize_size, resize_size),\n",
    "    batch_size=1,\n",
    "    shuffle = False\n",
    ")\n",
    "\n",
    "\n",
    "filenames = train_generator.filenames\n",
    "n_train_samples = len(filenames)\n",
    "train_features = custom_vgg_model.predict(train_generator, steps=n_train_samples, verbose=1)\n",
    "\n",
    "\n",
    "\n",
    "\n"
   ]
  },
  {
   "cell_type": "code",
   "execution_count": null,
   "metadata": {},
   "outputs": [],
   "source": [
    "\n",
    "test_datagen = ImageDataGenerator(rescale=1./255)\n",
    "test_generator = test_datagen.flow_from_dataframe(\n",
    "    test_df, \n",
    "    train_dir, \n",
    "    x_col='path',\n",
    "    y_col='label',\n",
    "    class_mode='sparse',\n",
    "    target_size=(resize_size, resize_size),\n",
    "    batch_size=1,\n",
    "    shuffle = False\n",
    ")\n",
    "\n",
    "\n",
    "filenames = test_generator.filenames\n",
    "n_test_samples = len(filenames)\n",
    "test_features = custom_vgg_model.predict(train_generator, steps=n_test_samples, verbose=1)"
   ]
  },
  {
   "cell_type": "code",
   "execution_count": null,
   "metadata": {},
   "outputs": [],
   "source": [
    "\n",
    "#X = pd.read_csv(\"train_features.csv\")\n",
    "X = train_features\n",
    "y = np.array(train_generator.labels)"
   ]
  },
  {
   "cell_type": "code",
   "execution_count": null,
   "metadata": {},
   "outputs": [],
   "source": [
    "test_features.shape"
   ]
  },
  {
   "cell_type": "code",
   "execution_count": null,
   "metadata": {},
   "outputs": [],
   "source": [
    "from sklearn import svm\n",
    "lin_svm = svm.SVC(kernel='linear')\n",
    "quadratic_svm = svm.SVC(kernel='poly', degree=2)\n",
    "exp_svm = svm.SVC(kernel='rbf')\n",
    "lin_svm.fit(X,y)\n",
    "pickle.dump(lin_svm, open('lin_svm.sav', 'wb'))"
   ]
  },
  {
   "cell_type": "code",
   "execution_count": null,
   "metadata": {},
   "outputs": [],
   "source": [
    "quadratic_svm.fit(X,y)\n",
    "pickle.dump(quadratic_svm, open('quadratic_svm.sav', 'wb'))\n"
   ]
  },
  {
   "cell_type": "code",
   "execution_count": null,
   "metadata": {},
   "outputs": [],
   "source": [
    "exp_svm.fit(X,y)\n",
    "pickle.dump(exp_svm, open('exp_svm.sav', 'wb'))"
   ]
  },
  {
   "cell_type": "code",
   "execution_count": null,
   "metadata": {},
   "outputs": [],
   "source": [
    "from sklearn.metrics import accuracy_score\n",
    "\n",
    "lin_score =  accuracy_score(test_generator.labels, test_features)\n",
    "quadratic_score = accuracy_score(test_generator.labels, test_features)\n",
    "exp_score = accuracy_score(test_generator.labels, test_features)"
   ]
  },
  {
   "cell_type": "code",
   "execution_count": null,
   "metadata": {},
   "outputs": [],
   "source": [
    "print(\"Lin score \" + str(lin_score))\n",
    "print(\"Quadratic score \" + str(quadratic_score))\n",
    "print(\"Exp score \" + str(exp_score))"
   ]
  },
  {
   "cell_type": "code",
   "execution_count": null,
   "metadata": {},
   "outputs": [],
   "source": [
    "np.savetxt(\"model2_svm/lin_score.csv\",  \n",
    "           np.array([lin_score]), \n",
    "           delimiter =\", \",  \n",
    "           fmt ='% s') \n",
    "np.savetxt(\"model2_svm/quadratic_score.csv\",  \n",
    "           np.array([quadratic_score]), \n",
    "           delimiter =\", \",  \n",
    "           fmt ='% s') \n",
    "np.savetxt(\"model2_svm/exp_score.csv\",  \n",
    "           np.array([exp_score]), \n",
    "           delimiter =\", \",  \n",
    "           fmt ='% s') "
   ]
  }
 ],
 "metadata": {
  "kernelspec": {
   "display_name": "Python 3",
   "language": "python",
   "name": "python3"
  },
  "language_info": {
   "codemirror_mode": {
    "name": "ipython",
    "version": 3
   },
   "file_extension": ".py",
   "mimetype": "text/x-python",
   "name": "python",
   "nbconvert_exporter": "python",
   "pygments_lexer": "ipython3",
   "version": "3.7.6-final"
  }
 },
 "nbformat": 4,
 "nbformat_minor": 2
}
